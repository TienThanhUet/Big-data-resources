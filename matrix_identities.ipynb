{
  "nbformat": 4,
  "nbformat_minor": 0,
  "metadata": {
    "colab": {
      "name": "matrix identities",
      "version": "0.3.2",
      "provenance": [],
      "collapsed_sections": [],
      "include_colab_link": true
    },
    "kernelspec": {
      "name": "python2",
      "display_name": "Python 2"
    }
  },
  "cells": [
    {
      "cell_type": "markdown",
      "metadata": {
        "id": "view-in-github",
        "colab_type": "text"
      },
      "source": [
        "<a href=\"https://colab.research.google.com/github/thunguyen177/Big-data-resources/blob/master/matrix_identities.ipynb\" target=\"_parent\"><img src=\"https://colab.research.google.com/assets/colab-badge.svg\" alt=\"Open In Colab\"/></a>"
      ]
    },
    {
      "metadata": {
        "id": "lMyLn60eVctz",
        "colab_type": "text"
      },
      "cell_type": "markdown",
      "source": [
        "# Block matrix \n",
        "\n",
        "$$\\begin{bmatrix}\\mathbf {A} &\\mathbf {B} \\\\\\mathbf {C} &\\mathbf {D} \\end{bmatrix}^{-1}=\\begin{bmatrix}\\mathbf {A} ^{-1}+\\mathbf {A} ^{-1}\\mathbf {B} (\\mathbf {D} -\\mathbf {CA} ^{-1}\\mathbf {B} )^{-1}\\mathbf {CA} ^{-1}&-\\mathbf {A} ^{-1}\\mathbf {B} (\\mathbf {D} -\\mathbf {CA} ^{-1}\\mathbf {B} )^{-1}\\\\-(\\mathbf {D} -\\mathbf {CA} ^{-1}\\mathbf {B} )^{-1}\\mathbf {CA} ^{-1}&(\\mathbf {D} -\\mathbf {CA} ^{-1}\\mathbf {B} )^{-1}\\end{bmatrix},$$\n",
        "where $A, B, C$ and $D$ have arbitrary size. (A and D must be square, so that they can be inverted. Furthermore, $A$ and $D-CA^{-1}B$ must be nonsingular.)\n",
        "\n",
        "Equivalently,\n",
        "\n",
        "$${\\begin{bmatrix}\\mathbf {A} &\\mathbf {B} \\\\\\mathbf {C} &\\mathbf {D} \\end{bmatrix}}^{-1}={\\begin{bmatrix}(\\mathbf {A} -\\mathbf {BD} ^{-1}\\mathbf {C} )^{-1}&-(\\mathbf {A} -\\mathbf {BD} ^{-1}\\mathbf {C} )^{-1}\\mathbf {BD} ^{-1}\\\\-\\mathbf {D} ^{-1}\\mathbf {C} (\\mathbf {A} -\\mathbf {BD} ^{-1}\\mathbf {C} )^{-1}&\\quad \\mathbf {D} ^{-1}+\\mathbf {D} ^{-1}\\mathbf {C} (\\mathbf {A} -\\mathbf {BD} ^{-1}\\mathbf {C} )^{-1}\\mathbf {BD} ^{-1}\\end{bmatrix}}. $$\n",
        "\n",
        "$$\\begin{pmatrix}\\mathbf {A} _{1}&0&\\cdots &0\\\\0&\\mathbf {A}_{2}&\\cdots &0\\\\\\vdots &\\vdots &\\ddots &\\vdots \\\\0&0&\\cdots &\\mathbf {A}_{n}\\end{pmatrix}^{-1}=\\begin{pmatrix}\\mathbf {A} _{1}^{-1}&0&\\cdots &0\\\\0&\\mathbf {A} _{2}^{-1}&\\cdots &0\\\\\\vdots &\\vdots &\\ddots &\\vdots \\\\0&0&\\cdots &\\mathbf {A} _{n}^{-1}\\end{pmatrix}.$$\n",
        "\n",
        "# Woodbury matrix identity:\n",
        "$$ \\left(A+UCV\\right)^{-1}=A^{-1}-A^{-1}U\\left(C^{-1}+VA^{-1}U\\right)^{-1}VA^{-1}, $$\n",
        "\n",
        "where A, U, C and V all denote matrices of the correct (conformable) sizes. Specifically, A is $n$-by-$n$, U is n-by-k, C is k-by-k and V is k-by-n.\n",
        "\n",
        "-binomial inverse theorem is a more general form of the Woodbury matrix identity.\n",
        "\n",
        "If A, U, B, V are matrices of sizes p×p, p×q, q×q, q×p, respectively, then\n",
        "\n",
        "$$ \\left(\\mathbf {A} +\\mathbf {UBV} \\right)^{-1}=\\mathbf {A} ^{-1}-\\mathbf {A} ^{-1}\\mathbf {UB} \\left(\\mathbf {B} +\\mathbf {BVA} ^{-1}\\mathbf {UB} \\right)^{-1}\\mathbf {BVA} ^{-1} $$\n",
        "provided A and $B + BVA^{-1}UB$ are nonsingular. Nonsingularity of the latter requires that $B−1$ exist since it equals $B + BVA^{-1}UB$  and the rank of the latter cannot exceed the rank of B.\n",
        "\n",
        "- **Sherman-Morrison formula**:\n",
        "\n",
        "$$ \\left(\\mathbf {A} +\\mathbf {uv} ^{\\mathrm {T} }\\right)^{-1}=\\mathbf {A} ^{-1}-{\\frac {\\mathbf {A} ^{-1}\\mathbf {uv} ^{\\mathrm {T} }\\mathbf {A} ^{-1}}{1+\\mathbf {v} ^{\\mathrm {T} }\\mathbf {A} ^{-1}\\mathbf {u} }}.$$\n",
        "\n",
        "Corrolaries:\n",
        "\n",
        " $$\\left({\\mathbf  {I}}_{p}+{\\mathbf  {UV}}\\right)^{{-1}}={\\mathbf  {I}}_{p}-{\\mathbf  {U}}\\left({\\mathbf  {I}}_{q}+{\\mathbf  {VU}}\\right)^{{-1}}{\\mathbf  {V}}.$$\n",
        " \n",
        " $$\\left({\\mathbf  {I}}+{\\mathbf  {uv}}^{{\\mathrm  {T}}}\\right)^{{-1}}={\\mathbf  {I}}-{\\frac  {{\\mathbf  {uv}}^{{\\mathrm  {T}}}}{1+{\\mathbf  {v}}^{{\\mathrm  {T}}}{\\mathbf  {u}}}},$$"
      ]
    },
    {
      "metadata": {
        "id": "I0xa_Q1UTlFM",
        "colab_type": "code",
        "colab": {}
      },
      "cell_type": "code",
      "source": [
        ""
      ],
      "execution_count": 0,
      "outputs": []
    }
  ]
}