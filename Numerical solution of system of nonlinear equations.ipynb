{
  "nbformat": 4,
  "nbformat_minor": 0,
  "metadata": {
    "colab": {
      "name": "Untitled0.ipynb",
      "version": "0.3.2",
      "provenance": [],
      "include_colab_link": true
    },
    "kernelspec": {
      "name": "python2",
      "display_name": "Python 2"
    }
  },
  "cells": [
    {
      "cell_type": "markdown",
      "metadata": {
        "id": "view-in-github",
        "colab_type": "text"
      },
      "source": [
        "<a href=\"https://colab.research.google.com/github/thunguyen177/Big-data-resources/blob/master/Numerical%20solution%20of%20system%20of%20nonlinear%20equations.ipynb\" target=\"_parent\"><img src=\"https://colab.research.google.com/assets/colab-badge.svg\" alt=\"Open In Colab\"/></a>"
      ]
    },
    {
      "metadata": {
        "id": "lqK8MdWOdT1U",
        "colab_type": "text"
      },
      "cell_type": "markdown",
      "source": [
        "-  Taylor expansion:\n",
        "\n",
        "$$x\\in \\mathbb{R^n}, f\\in C^{\\infty}(\\mathbb{R}^n,\\mathbb{R}): f(x+h)=f(x)+f'(x).h+\\mathcal{ O}(||h||^2), h\\in \\mathbb{R}^n,||h||\\rightarrow 0$$\n",
        "\n",
        "$$x\\in \\mathbb{R^n}, F\\in C^{\\infty}(\\mathbb{R}^n,\\mathbb{R}^m): F(x+h)=F(x)+F'(x).h+\\mathcal{ O}(||h||^2), h\\in \\mathbb{R}^n,||h||\\rightarrow 0$$\n",
        "\n",
        "-  **Frechet derivative**: Let $F\\in C^1(\\mathbb{R}^n,\\mathbb{R}^m)$. For any $x\\in \\mathbb{R}^n$, the Frechet derivative of $F$ at $x$ is a matrix $A\\in L(\\mathbb{R}^n,\\mathbb{R}^m)$ such that $\\lim_{h\\rightarrow 0,h\\in \\mathbb{R}^n}\\frac{||F(x+h)-F(x)-Ah||}{||h||}=0 $. Denote $A=F'(x)$\n",
        "\n",
        "-  $G\\in C(\\mathbb{R}^n,\\mathbb{R}^n)$ is a \\textit{contraction map}} on a closed subset $D\\subset \\mathbb{R}^n$ if $G(D)\\subset D$ and $\\exists L<1$ such that $||G(x)-G(y)||\\le L||x-y|| \\forall x,y\\in D$\n",
        "-  **Contraction mapping theorem**: If $G$ is defined as above, then $G$ has a unique fixed point $x^*\\in D$. For any $x^{(0)}\\in D$, the iteration $x^{(k+1)}=G(x^{(k)}) $ for $k\\ge 0$ converges to $x^*$\n",
        "-  $D$ is **convex** if $tx+(1-t)y=y+t(x-y)\\in D\\;\\forall x,y\\in D\\&t\\in [0,1]$\n",
        "-  **Mean value theorem**: If $D\\subset \\mathbb{R}^n$ is convex and $F\\in C^1(\\mathbb{R}^n,\\mathbb{R}^m)$ then $\\forall xy\\in D, \\exists\\xi^{(1)},...,\\xi^{(m)}\\in D$ such that \n",
        "\n",
        "\n",
        "$F(x)-F(y)=\\begin{pmatrix}\n",
        "F'_1(\\xi^{(1)})\\\\\n",
        "\\vdots\\\\\n",
        "F'_m(\\xi^{(m)})\n",
        "\\end{pmatrix}(x-y),\\; i.e. F_k(x)-F_k(y)=F'_k(\\xi^{(k)})(x-y) \\forall 1\\le k\\le n $\n",
        "\n",
        "\n",
        "Note that $\\xi^{(1)},..., \\xi^{(m)}$ maybe different.\n",
        "\n",
        "-  **Fundamental theorem**: If $F\\in C^1(\\mathbb{R}^n,\\mathbb{R}^m)$, then\n",
        "\n",
        "$F(x)-F(y)=\\int_0^1 F'(y+t(x-y))(x-y))dt \\forall x,y\\in \\mathbb{R}^n$\n",
        "\n",
        "-  If $x^*$ is a fixed point of $G\\in C^1(\\mathbb{R}^n,\\mathbb{R}^m)$ and $\\rho(G'(x^*))<1$. Then, $\\exists\\epsilon >0$, such that $G$ is a contraction on $D=B_\\epsilon(x^*)=\\{x\\in \\mathbb{R}^n,||x-x^*||_2\\le \\epsilon  \\}$\n",
        "-  **Newton's method** for solving $F(x)=0,x\\in \\mathbb{R}^n, F\\in C(\\mathbb{R}^n,\\mathbb{R}^n)$: $G(x)=x-[F'(x)]^{-1}F(x)$ converges quadratically $(||x^{(k+1)}-x^*||=\\mathcal{O}(||x^{(k)}-x^*||^2)$\n",
        "-  If $ F\\in C^1(\\mathbb{R}^n,\\mathbb{R}^m)$ and $D$ is convex in $\\mathbb{R} ^n$ then $F$ is convex on $D$ iff $F(x)-F(y)\\ge F'(y)(x-y)$, i.e., $\\frac{F(x)-F(y)}{x-y}\\ge F'(y)$\n",
        "-  $ F$ is convex iff $F_k$ is convex $\\forall \\,k=1,...,m$\n",
        "-  $f\\in C^2(\\mathbb{R} ^n, \\mathbb{R}) $ is convex on $D$ iff $f''(x)$ is positive semidefinite $\\forall x\\in D$.\n",
        "-  Let $F\\in  C^1(\\mathbb{R}^n,\\mathbb{R}^n)$ be a convex function on a convex closed set $D\\subset \\mathbb{R} ^n$. If $F(x)=0$ has a solution $x^*\\in \\mathbb{R}^n$, and $F'(x)$ is nonsingular with $[F'(x)]^{-1}\\ge  $ (each component $\\ge 0$, component-wisely) $\\forall x\\in D$ then the solution of $F(x)=0$ is unique in $D$, and for the Newton's iteration $x^{(k+1)}=x^{(k)}-[F'(x^{(k)})]^{-1}F(x^{(k)}), \\forall k\\ge 0$ with $x^{(0)}\\in D$, we have $x^{(k)}\\ge x^{(k+1)}\\ge x^*, \\forall k\\ge 1$. Especially, $x^{(k)} $ decrease and converge to $x^*$ as $k\\rightarrow \\infty$\n",
        "\n"
      ]
    }
  ]
}